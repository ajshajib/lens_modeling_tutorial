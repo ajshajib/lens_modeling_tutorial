{
 "cells": [
  {
   "cell_type": "markdown",
   "id": "b5e975e0",
   "metadata": {
    "id": "b5e975e0"
   },
   "source": [
    "This notebook illustrates how to load `kwargs_data` and `kwargs_psf` from hdf5 files with \".h5\" suffix."
   ]
  },
  {
   "cell_type": "code",
   "execution_count": null,
   "id": "d16117d9",
   "metadata": {
    "id": "d16117d9"
   },
   "outputs": [],
   "source": [
    "import h5py"
   ]
  },
  {
   "cell_type": "code",
   "execution_count": null,
   "id": "71e1d56b",
   "metadata": {
    "scrolled": true,
    "id": "71e1d56b",
    "outputId": "a4a58c02-4b41-45dc-b2f9-11cd39fb35ef"
   },
   "outputs": [],
   "source": [
    "with h5py.File(\"../data/mock_lens_images/team_1_order_1.h5\", \"r\") as f:\n",
    "    kwargs_data = {}\n",
    "    for key in f:\n",
    "        kwargs_data[key] = f[key][()]\n",
    "\n",
    "kwargs_data"
   ]
  },
  {
   "cell_type": "code",
   "execution_count": null,
   "id": "c8b16ffc",
   "metadata": {
    "id": "c8b16ffc",
    "outputId": "033ed073-b72a-403e-ad13-b91a4485c5a6"
   },
   "outputs": [],
   "source": [
    "with h5py.File(\"../data/mock_lens_images/psf.h5\", \"r\") as f:\n",
    "    kwargs_psf = {}\n",
    "    for key in f:\n",
    "        kwargs_psf[key] = f[key][()]\n",
    "\n",
    "kwargs_psf[\"psf_type\"] = \"PIXEL\"\n",
    "kwargs_psf"
   ]
  },
  {
   "cell_type": "code",
   "execution_count": null,
   "id": "af165ea2",
   "metadata": {
    "id": "af165ea2"
   },
   "outputs": [],
   "source": []
  }
 ],
 "metadata": {
  "kernelspec": {
   "display_name": "Python 3 (ipykernel)",
   "language": "python",
   "name": "python3"
  },
  "language_info": {
   "codemirror_mode": {
    "name": "ipython",
    "version": 3
   },
   "file_extension": ".py",
   "mimetype": "text/x-python",
   "name": "python",
   "nbconvert_exporter": "python",
   "pygments_lexer": "ipython3",
   "version": "3.10.6"
  },
  "colab": {
   "provenance": []
  }
 },
 "nbformat": 4,
 "nbformat_minor": 5
}
