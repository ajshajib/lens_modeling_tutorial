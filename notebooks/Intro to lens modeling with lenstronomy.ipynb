{
 "cells": [
  {
   "cell_type": "markdown",
   "source": [
    "# Lens modeling with `lenstronomy`\n",
    "\n",
    "GitHub page of `lenstronomy`: https://github.com/lenstronomy/lenstronomy\n",
    "\n",
    "Documentation of `lenstronomy`: https://lenstronomy.readthedocs.io/en/latest/?badge=latest\n",
    "\n",
    "Useful tutorials: https://github.com/lenstronomy/lenstronomy-tutorials "
   ],
   "metadata": {
    "collapsed": false,
    "pycharm": {
     "name": "#%% md\n"
    },
    "id": "KmvQu1d2QsGp"
   }
  },
  {
   "cell_type": "code",
   "execution_count": null,
   "outputs": [],
   "source": [
    "# make sure lenstronomy is installed, otherwise install the latest pip version\n",
    "try:\n",
    "    import lenstronomy\n",
    "except ModuleNotFoundError:\n",
    "    !pip install lenstronomy\n",
    "\n",
    "from lenstronomy.Workflow.fitting_sequence import FittingSequence\n",
    "from lenstronomy.Plots.model_plot import ModelPlot"
   ],
   "metadata": {
    "pycharm": {
     "name": "#%%\n"
    },
    "id": "DnJXlfHWQsGr"
   }
  },
  {
   "cell_type": "code",
   "execution_count": null,
   "outputs": [],
   "source": [
    "# import of standard python libraries\n",
    "import numpy as np\n",
    "import corner\n",
    "import matplotlib.pyplot as plt\n",
    "\n",
    "%matplotlib inline"
   ],
   "metadata": {
    "pycharm": {
     "name": "#%%\n"
    },
    "id": "9_ZYZoo8QsGs"
   }
  },
  {
   "cell_type": "markdown",
   "source": [
    "## Load imaging data\n",
    "\n",
    "The data and the PSF needs to be provided to `lenstronomy` using the\n",
    "dictionaries `kwargs_data` and `kwargs_psf`.\n",
    "\n",
    "In `kwargs_data`, we also need to proivde information on the noise level.\n",
    "Either the pixel-wise noise map can be provided using the `noise_map`\n",
    "keyword, or simply the `exposure_time` and `background_rms` can be provided\n",
    "for `lenstronomy` to create the noise map by itself.\n",
    "\n",
    "The keywords `ra_at_xy_0` and `dec_at_xy_0` are the RA and Declination in\n",
    "arcsecond units at the (0, 0) pixel. The keyword `transform_pix2angle` is\n",
    "the transformation matrix from pixel number coordinates to (RA, Decl.).\n",
    "These keywords are used to convert pixel coordinates to RA and Decl.\n",
    "coordinates. If you want to convert one 2D coordinate system to another, you\n",
    " will need to the offset between the zeropoints of two coordinate systems\n",
    " and transformation matrix that specifies the scaling and rotation of the\n",
    " axes. So, the keywords `ra_at_xy_0` and `dec_at_xy_0` specify the zeropoint\n",
    "  offsets, and `transform_pix2angle` is the tansformation matrix specifying\n",
    "  scaling and rotation.\n",
    "\n",
    "For the first example of lensing data, no PSF was used to create the data.\n",
    "Therefore, `psf_type` is set to `NONE`. For real data, there has to be a PSF\n",
    ". We will work with PSFs in later examples."
   ],
   "metadata": {
    "collapsed": false,
    "pycharm": {
     "name": "#%% md\n"
    },
    "id": "MydQF69LQsGs"
   }
  },
  {
   "cell_type": "code",
   "execution_count": null,
   "outputs": [],
   "source": [
    "image_data = np.loadtxt(\"../data/mock_lens_images/team_1_order_1.txt\")\n",
    "\n",
    "background_rms = 1.0\n",
    "exposure_time = 600\n",
    "\n",
    "ra_at_xy_0 = 2.5  # RA in arcsecond unit at (0, 0) pixel\n",
    "dec_at_xy_0 = -2.5  # Declination in arcsecond unit at (0, 0) pixel\n",
    "transform_pix2angle = np.array([[-0.05, 0.0], [0.0, 0.05]])  # transformation\n",
    "# matrix from pixel number coordinates to (RA, Decl.) coordinates\n",
    "\n",
    "kwargs_data = {\n",
    "    \"image_data\": image_data,\n",
    "    \"background_rms\": background_rms,\n",
    "    \"noise_map\": None,\n",
    "    \"exposure_time\": exposure_time,\n",
    "    \"ra_at_xy_0\": ra_at_xy_0,\n",
    "    \"dec_at_xy_0\": dec_at_xy_0,\n",
    "    \"transform_pix2angle\": transform_pix2angle,\n",
    "}\n",
    "\n",
    "kwargs_psf = {\n",
    "    \"psf_type\": \"NONE\",  # \"PIXEL\",\n",
    "    \"kernel_point_source\": None,  # psf_map,\n",
    "}"
   ],
   "metadata": {
    "pycharm": {
     "name": "#%%\n"
    },
    "id": "JeNtCR09QsGs"
   }
  },
  {
   "cell_type": "code",
   "execution_count": null,
   "outputs": [],
   "source": [
    "plt.matshow(np.log10(image_data), origin=\"lower\", cmap=\"cubehelix\");"
   ],
   "metadata": {
    "pycharm": {
     "name": "#%%\n"
    },
    "id": "pE_eDZ_IQsGt"
   }
  },
  {
   "cell_type": "markdown",
   "source": [
    "## Building a lens model\n",
    "\n",
    "Here, we build a lens model. The lens model can be thought of three\n",
    "components: the lens galaxy's mass model, the lens galaxy's light model, and\n",
    "the source galaxy's light model. We have to give a list of profiles for each\n",
    " component as shown in the next codecell.\n",
    "\n",
    "The `'EPL'` lens mass profile stands for Elliptical Power Law. The form of\n",
    "this convergence profile is given by:\n",
    "$$\\kappa(x, y) = \\frac{3 - \\gamma}{2} \\left[ \\frac{\\theta_{\\rm E}}{\\sqrt{q\n",
    "x^2 + y^2 / q}} \\right]^{\\gamma - 1}. $$\n",
    "\n",
    "The position angle $\\phi$ adjusts the orientation of the mass profile's\n",
    "major axis. The ellipticity parameters $q$ and $\\phi$ can be reformulated as\n",
    "$$e_1 = \\frac{1 - q}{1 + q} \\cos 2\\phi,$$\n",
    "$$e_2 = \\frac{1 - q}{1 + q} \\sin 2\\phi.$$\n",
    "\n",
    "`lenstronomy` uses $e_1$ and $e_2$ instead of $q$ and $\\phi$, because $e_1$\n",
    "and $e_2$ are easier to handle in numerical optimization, for example, in\n",
    "MCMC. You can check [here](https://github.com/lenstronomy/lenstronomy-tutorials/blob/main/Notebooks/GettingStarted/units_coordinates_parameters_definitions.ipynb) for more details on\n",
    "parameter definitions and conventions used in `lenstronomy`.\n",
    "\n",
    "\n",
    "Both the lens galaxy's and the source galaxy's light profiles are modeled\n",
    "with Sersic function, which is given by:\n",
    "\n",
    "$$I(x, y) = I_{\\rm e} \\exp \\left[ -b_{n} \\left\\{ \\left( \\frac{\\sqrt{q x^2\n",
    "+ y^2/q}}{R_{\\rm Sersic}} \\right)^{1/n_{\\rm Sersic}} - 1 \\right\\}\n",
    "\\right].$$"
   ],
   "metadata": {
    "collapsed": false,
    "pycharm": {
     "name": "#%% md\n"
    },
    "id": "mA6l8QTHQsGt"
   }
  },
  {
   "cell_type": "code",
   "execution_count": null,
   "outputs": [],
   "source": [
    "lens_model_list = [\"EPL\"]\n",
    "source_model_list = [\"SHAPELETS\"]  # beta, n_max, center_x, center_y\n",
    "lens_light_model_list = [\"SERSIC_ELLIPSE\"]"
   ],
   "metadata": {
    "pycharm": {
     "name": "#%%\n"
    },
    "id": "y-ViGkkyQsGt"
   }
  },
  {
   "cell_type": "markdown",
   "source": [
    "In this cell below, we have to specify the initial values, upper and lower\n",
    "limits for the model parameters specific to each of the model components\n",
    "specified in the above lists. The `kwargs_*_sigma` dictionaries/lists are\n",
    "used to set the initial size of the search area within particle swarm\n",
    "optimization (PSO) or MCMC."
   ],
   "metadata": {
    "collapsed": false,
    "pycharm": {
     "name": "#%% md\n"
    },
    "id": "xd5carnAQsGu"
   }
  },
  {
   "cell_type": "code",
   "execution_count": null,
   "outputs": [],
   "source": [
    "# lens galaxy's mass model\n",
    "fixed_lens = []\n",
    "kwargs_lens_init = []\n",
    "kwargs_lens_sigma = []\n",
    "kwargs_lower_lens = []\n",
    "kwargs_upper_lens = []\n",
    "\n",
    "fixed_lens.append({})\n",
    "kwargs_lens_init.append(\n",
    "    {\n",
    "        \"theta_E\": 1.0,\n",
    "        \"gamma\": 2.0,\n",
    "        \"e1\": 0.0,\n",
    "        \"e2\": 0.0,\n",
    "        \"center_x\": 0.0,\n",
    "        \"center_y\": 0.0,\n",
    "    }\n",
    ")\n",
    "kwargs_lens_sigma.append(\n",
    "    {\n",
    "        \"theta_E\": 0.2,\n",
    "        \"gamma\": 0.1,\n",
    "        \"e1\": 0.05,\n",
    "        \"e2\": 0.05,\n",
    "        \"center_x\": 0.5,\n",
    "        \"center_y\": 0.5,\n",
    "    }\n",
    ")\n",
    "kwargs_lower_lens.append(\n",
    "    {\n",
    "        \"theta_E\": 0.01,\n",
    "        \"gamma\": 1.0,\n",
    "        \"e1\": -0.5,\n",
    "        \"e2\": -0.5,\n",
    "        \"center_x\": -10,\n",
    "        \"center_y\": -10,\n",
    "    }\n",
    ")\n",
    "kwargs_upper_lens.append(\n",
    "    {\n",
    "        \"theta_E\": 10.0,\n",
    "        \"gamma\": 3.0,\n",
    "        \"e1\": 0.5,\n",
    "        \"e2\": 0.5,\n",
    "        \"center_x\": 10,\n",
    "        \"center_y\": 10,\n",
    "    }\n",
    ")\n",
    "\n",
    "\n",
    "lens_params = [\n",
    "    kwargs_lens_init,\n",
    "    kwargs_lens_sigma,\n",
    "    fixed_lens,\n",
    "    kwargs_lower_lens,\n",
    "    kwargs_upper_lens,\n",
    "]\n",
    "\n",
    "\n",
    "# lens galaxy's light model\n",
    "fixed_lens_light = []\n",
    "kwargs_lens_light_init = []\n",
    "kwargs_lens_light_sigma = []\n",
    "kwargs_lower_lens_light = []\n",
    "kwargs_upper_lens_light = []\n",
    "\n",
    "fixed_lens_light.append({\"n_sersic\": 4.0})\n",
    "kwargs_lens_light_init.append(\n",
    "    {\n",
    "        \"R_sersic\": 0.5,\n",
    "        \"n_sersic\": 2,\n",
    "        \"e1\": 0,\n",
    "        \"e2\": 0,\n",
    "        \"center_x\": 0.0,\n",
    "        \"center_y\": 0,\n",
    "        \"amp\": 16,\n",
    "    }\n",
    ")\n",
    "kwargs_lens_light_sigma.append(\n",
    "    {\n",
    "        \"n_sersic\": 1,\n",
    "        \"R_sersic\": 0.3,\n",
    "        \"e1\": 0.05,\n",
    "        \"e2\": 0.05,\n",
    "        \"center_x\": 0.1,\n",
    "        \"center_y\": 0.1,\n",
    "        \"amp\": 10,\n",
    "    }\n",
    ")\n",
    "kwargs_lower_lens_light.append(\n",
    "    {\n",
    "        \"e1\": -0.5,\n",
    "        \"e2\": -0.5,\n",
    "        \"R_sersic\": 0.001,\n",
    "        \"n_sersic\": 0.5,\n",
    "        \"center_x\": -10,\n",
    "        \"center_y\": -10,\n",
    "        \"amp\": 0,\n",
    "    }\n",
    ")\n",
    "kwargs_upper_lens_light.append(\n",
    "    {\n",
    "        \"e1\": 0.5,\n",
    "        \"e2\": 0.5,\n",
    "        \"R_sersic\": 10,\n",
    "        \"n_sersic\": 5.0,\n",
    "        \"center_x\": 10,\n",
    "        \"center_y\": 10,\n",
    "        \"amp\": 100,\n",
    "    }\n",
    ")\n",
    "\n",
    "joint_lens_with_light = [[0, 0, [\"center_x\", \"center_y\", \"e1\", \"e2\"]]]\n",
    "\n",
    "lens_light_params = [\n",
    "    kwargs_lens_light_init,\n",
    "    kwargs_lens_light_sigma,\n",
    "    fixed_lens_light,\n",
    "    kwargs_lower_lens_light,\n",
    "    kwargs_upper_lens_light,\n",
    "]\n",
    "\n",
    "\n",
    "# source galaxy's light model\n",
    "fixed_source = []\n",
    "kwargs_source_init = []\n",
    "kwargs_source_sigma = []\n",
    "kwargs_lower_source = []\n",
    "kwargs_upper_source = []\n",
    "\n",
    "fixed_source.append({\"n_sersic\": 1.0})\n",
    "kwargs_source_init.append(\n",
    "    {\n",
    "        \"R_sersic\": 0.2,\n",
    "        \"n_sersic\": 1,\n",
    "        \"e1\": 0,\n",
    "        \"e2\": 0,\n",
    "        \"center_x\": 0.0,\n",
    "        \"center_y\": 0,\n",
    "        \"amp\": 16,\n",
    "    }\n",
    ")\n",
    "kwargs_source_sigma.append(\n",
    "    {\n",
    "        \"n_sersic\": 0.5,\n",
    "        \"R_sersic\": 0.1,\n",
    "        \"e1\": 0.05,\n",
    "        \"e2\": 0.05,\n",
    "        \"center_x\": 0.2,\n",
    "        \"center_y\": 0.2,\n",
    "        \"amp\": 10,\n",
    "    }\n",
    ")\n",
    "kwargs_lower_source.append(\n",
    "    {\n",
    "        \"e1\": -0.5,\n",
    "        \"e2\": -0.5,\n",
    "        \"R_sersic\": 0.001,\n",
    "        \"n_sersic\": 0.5,\n",
    "        \"center_x\": -10,\n",
    "        \"center_y\": -10,\n",
    "        \"amp\": 0,\n",
    "    }\n",
    ")\n",
    "kwargs_upper_source.append(\n",
    "    {\n",
    "        \"e1\": 0.5,\n",
    "        \"e2\": 0.5,\n",
    "        \"R_sersic\": 10,\n",
    "        \"n_sersic\": 5.0,\n",
    "        \"center_x\": 10,\n",
    "        \"center_y\": 10,\n",
    "        \"amp\": 100,\n",
    "    }\n",
    ")\n",
    "\n",
    "source_params = [\n",
    "    kwargs_source_init,\n",
    "    kwargs_source_sigma,\n",
    "    fixed_source,\n",
    "    kwargs_lower_source,\n",
    "    kwargs_upper_source,\n",
    "]\n",
    "\n",
    "\n",
    "# combining all the above specification in the `kwargs_params` dictionary\n",
    "kwargs_params = {\n",
    "    \"lens_model\": lens_params,\n",
    "    \"source_model\": source_params,\n",
    "    \"lens_light_model\": lens_light_params,\n",
    "}\n",
    "\n",
    "kwargs_constraints = {\"joint_lens_with_light\": joint_lens_with_light}"
   ],
   "metadata": {
    "pycharm": {
     "name": "#%%\n"
    },
    "id": "-Gl0ee-vQsGu"
   }
  },
  {
   "cell_type": "markdown",
   "source": [
    "#### Numerical settings\n",
    "\n",
    "No need to change anything here for now. It's also fine to not\n",
    "understand these settings for now."
   ],
   "metadata": {
    "collapsed": false,
    "pycharm": {
     "name": "#%% md\n"
    },
    "id": "PlN8m6FHQsGu"
   }
  },
  {
   "cell_type": "code",
   "execution_count": null,
   "outputs": [],
   "source": [
    "kwargs_likelihood = {\"check_bounds\": True}\n",
    "\n",
    "kwargs_numerics = {\"supersampling_factor\": 1, \"supersampling_convolution\": False}"
   ],
   "metadata": {
    "pycharm": {
     "name": "#%%\n"
    },
    "id": "VSZjJa2xQsGu"
   }
  },
  {
   "cell_type": "markdown",
   "source": [
    "#### Combining all the information to be sent to lenstronomy"
   ],
   "metadata": {
    "collapsed": false,
    "pycharm": {
     "name": "#%% md\n"
    },
    "id": "CyBLD2dtQsGu"
   }
  },
  {
   "cell_type": "code",
   "execution_count": null,
   "outputs": [],
   "source": [
    "kwargs_model = {\n",
    "    \"lens_model_list\": lens_model_list,\n",
    "    \"source_light_model_list\": source_model_list,\n",
    "    \"lens_light_model_list\": lens_light_model_list,\n",
    "}\n",
    "\n",
    "multi_band_list = [[kwargs_data, kwargs_psf, kwargs_numerics]]\n",
    "\n",
    "kwargs_data_joint = {\n",
    "    \"multi_band_list\": multi_band_list,\n",
    "    \"multi_band_type\": \"single-band\"\n",
    "}"
   ],
   "metadata": {
    "pycharm": {
     "name": "#%%\n"
    },
    "id": "VH3Qw8kkQsGu"
   }
  },
  {
   "cell_type": "markdown",
   "source": [
    "## Here the model fiting is done"
   ],
   "metadata": {
    "collapsed": false,
    "pycharm": {
     "name": "#%% md\n"
    },
    "id": "tmnRhXM6QsGu"
   }
  },
  {
   "cell_type": "code",
   "execution_count": null,
   "outputs": [],
   "source": [
    "fitting_seq = FittingSequence(\n",
    "    kwargs_data_joint,\n",
    "    kwargs_model,\n",
    "    kwargs_constraints,\n",
    "    kwargs_likelihood,\n",
    "    kwargs_params,\n",
    ")\n",
    "\n",
    "fitting_kwargs_list = [\n",
    "    [\"PSO\", {\"sigma_scale\": 1.0, \"n_particles\": 200, \"n_iterations\": 100}],\n",
    "    # ['MCMC', {'n_burn': 200, 'n_run': 600, 'n_walkers':\n",
    "    # 200, 'sigma_scale': .1}]\n",
    "]\n",
    "\n",
    "chain_list = fitting_seq.fit_sequence(fitting_kwargs_list)\n",
    "kwargs_result = fitting_seq.best_fit()"
   ],
   "metadata": {
    "pycharm": {
     "name": "#%%\n",
     "is_executing": true
    },
    "id": "GkOW3-NdQsGv"
   }
  },
  {
   "cell_type": "markdown",
   "source": [
    "## Visualizing the fitted model"
   ],
   "metadata": {
    "collapsed": false,
    "pycharm": {
     "name": "#%% md\n"
    },
    "id": "L4DkQUtwQsGv"
   }
  },
  {
   "cell_type": "code",
   "execution_count": null,
   "outputs": [],
   "source": [
    "model_plot = ModelPlot(\n",
    "    multi_band_list,\n",
    "    kwargs_model,\n",
    "    kwargs_result,\n",
    "    arrow_size=0.02,\n",
    "    cmap_string=\"cubehelix\",\n",
    ")\n",
    "\n",
    "f, axes = plt.subplots(2, 3, figsize=(16, 8), sharex=False, sharey=False)\n",
    "\n",
    "model_plot.data_plot(ax=axes[0, 0])\n",
    "model_plot.model_plot(ax=axes[0, 1])\n",
    "model_plot.normalized_residual_plot(ax=axes[0, 2], v_min=-3, v_max=3, cmap=\"RdBu_r\")\n",
    "model_plot.source_plot(ax=axes[1, 0], deltaPix_source=0.01, numPix=100)\n",
    "model_plot.convergence_plot(ax=axes[1, 1], v_max=1, cmap=\"gist_heat\")\n",
    "model_plot.magnification_plot(ax=axes[1, 2], cmap=\"PiYG\")\n",
    "f.tight_layout()\n",
    "f.subplots_adjust(left=None, bottom=None, right=None, top=None, wspace=0.0, hspace=0.05)\n",
    "plt.show()\n",
    "\n",
    "f, axes = plt.subplots(2, 3, figsize=(16, 8), sharex=False, sharey=False)\n",
    "\n",
    "model_plot.decomposition_plot(\n",
    "    ax=axes[0, 0], text=\"Lens light\", lens_light_add=True, unconvolved=True\n",
    ")\n",
    "model_plot.decomposition_plot(\n",
    "    ax=axes[1, 0], text=\"Lens light convolved\", lens_light_add=True\n",
    ")\n",
    "model_plot.decomposition_plot(\n",
    "    ax=axes[0, 1], text=\"Source light\", source_add=True, unconvolved=True\n",
    ")\n",
    "model_plot.decomposition_plot(\n",
    "    ax=axes[1, 1], text=\"Source light convolved\", source_add=True\n",
    ")\n",
    "model_plot.decomposition_plot(\n",
    "    ax=axes[0, 2],\n",
    "    text=\"All components\",\n",
    "    source_add=True,\n",
    "    lens_light_add=True,\n",
    "    unconvolved=True,\n",
    ")\n",
    "model_plot.decomposition_plot(\n",
    "    ax=axes[1, 2],\n",
    "    text=\"All components convolved\",\n",
    "    source_add=True,\n",
    "    lens_light_add=True,\n",
    "    point_source_add=True,\n",
    ")\n",
    "f.tight_layout()\n",
    "f.subplots_adjust(left=None, bottom=None, right=None, top=None, wspace=0.0, hspace=0.05)\n",
    "plt.show()\n",
    "print(kwargs_result)"
   ],
   "metadata": {
    "pycharm": {
     "name": "#%%\n",
     "is_executing": true
    },
    "id": "CsxVpq2NQsGv"
   }
  },
  {
   "cell_type": "markdown",
   "source": [
    "#### visualizing the MCMC chain, if run"
   ],
   "metadata": {
    "collapsed": false,
    "pycharm": {
     "name": "#%% md\n"
    },
    "id": "RfD2JxM0QsGv"
   }
  },
  {
   "cell_type": "code",
   "execution_count": null,
   "outputs": [],
   "source": [
    "if len(chain_list) > 1:\n",
    "    sampler_type, samples_mcmc, param_mcmc, dist_mcmc = chain_list[1]\n",
    "\n",
    "    param_class = fitting_seq.param_class\n",
    "\n",
    "    print(\"number of non-linear parameters in the MCMC process: \", len(param_mcmc))\n",
    "    print(\"parameters in order: \", param_mcmc)\n",
    "    print(\"number of evaluations in the MCMC process: \", np.shape(samples_mcmc)[0])\n",
    "    n_sample = len(samples_mcmc)\n",
    "    print(n_sample)\n",
    "    samples_mcmc_cut = samples_mcmc[int(n_sample * 1 / 2.0) :]\n",
    "    if not samples_mcmc == []:\n",
    "        n, num_param = np.shape(samples_mcmc_cut)\n",
    "        plot = corner.corner(\n",
    "            samples_mcmc_cut[:, :], labels=param_mcmc[:], show_titles=True\n",
    "        )"
   ],
   "metadata": {
    "pycharm": {
     "name": "#%%\n",
     "is_executing": true
    },
    "id": "fINR1RVvQsGv"
   }
  },
  {
   "cell_type": "code",
   "execution_count": null,
   "outputs": [],
   "source": [],
   "metadata": {
    "pycharm": {
     "name": "#%%\n",
     "is_executing": true
    },
    "id": "VQE0O0t3QsGv"
   }
  }
 ],
 "metadata": {
  "kernelspec": {
   "display_name": "Python 3",
   "language": "python",
   "name": "python3"
  },
  "language_info": {
   "codemirror_mode": {
    "name": "ipython",
    "version": 2
   },
   "file_extension": ".py",
   "mimetype": "text/x-python",
   "name": "python",
   "nbconvert_exporter": "python",
   "pygments_lexer": "ipython2",
   "version": "2.7.6"
  },
  "colab": {
   "provenance": []
  }
 },
 "nbformat": 4,
 "nbformat_minor": 0
}
